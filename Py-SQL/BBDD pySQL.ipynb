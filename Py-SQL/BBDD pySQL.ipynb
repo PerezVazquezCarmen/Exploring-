{
 "cells": [
  {
   "cell_type": "markdown",
   "id": "a6a8bc7e-3220-49f0-bb66-af78f47d5d6d",
   "metadata": {
    "tags": []
   },
   "source": [
    "# Crear Base de Datos de SQL desde Python  - Ejemplo, un colegio\n",
    "\n",
    "## Interesante: librería names"
   ]
  },
  {
   "cell_type": "code",
   "execution_count": 1,
   "id": "1a0957f1-7f4d-4f7c-9966-b82f8bc9db55",
   "metadata": {
    "tags": []
   },
   "outputs": [],
   "source": [
    "import pymysql\n",
    "import numpy as np\n",
    "import pandas as pd\n",
    "import os\n",
    "import random\n",
    "import names"
   ]
  },
  {
   "cell_type": "code",
   "execution_count": 2,
   "id": "d80147fd-fb45-4992-8a3d-571850f8d462",
   "metadata": {
    "tags": []
   },
   "outputs": [],
   "source": [
    "#con =connection\n",
    "con = pymysql.connect(host='localhost',\n",
    "                      user='root',\n",
    "                      cursorclass = pymysql.cursors.DictCursor)\n",
    "cursor=con.cursor()"
   ]
  },
  {
   "cell_type": "code",
   "execution_count": 3,
   "id": "5c9e7b5f-ce97-4b5a-9efc-b58b3c1aa071",
   "metadata": {
    "tags": []
   },
   "outputs": [
    {
     "data": {
      "text/plain": [
       "1"
      ]
     },
     "execution_count": 3,
     "metadata": {},
     "output_type": "execute_result"
    }
   ],
   "source": [
    "sql_query = \"create database if not exists entrega;\"\n",
    "cursor.execute(sql_query)"
   ]
  },
  {
   "cell_type": "code",
   "execution_count": 4,
   "id": "1e080a41-9225-48f7-b46d-2a9eeb731cb7",
   "metadata": {
    "tags": []
   },
   "outputs": [
    {
     "data": {
      "text/plain": [
       "0"
      ]
     },
     "execution_count": 4,
     "metadata": {},
     "output_type": "execute_result"
    }
   ],
   "source": [
    "sql_query=\"use entrega;\"\n",
    "cursor.execute(sql_query)"
   ]
  },
  {
   "cell_type": "code",
   "execution_count": 5,
   "id": "6c61520c-3c0c-4477-b649-dd5848637a8e",
   "metadata": {},
   "outputs": [
    {
     "data": {
      "text/plain": [
       "0"
      ]
     },
     "execution_count": 5,
     "metadata": {},
     "output_type": "execute_result"
    }
   ],
   "source": [
    "sql_query = 'CREATE TABLE Alumnos (ID INT PRIMARY KEY, Nombre VARCHAR(100), Apellido VARCHAR(100), Sexo VARCHAR(6), Nacimiento INT CHECK(Nacimiento BETWEEN 1990 AND 1993));'\n",
    "cursor.execute(sql_query)\n"
   ]
  },
  {
   "cell_type": "code",
   "execution_count": 6,
   "id": "76a8a465-73e0-4c70-a2ef-ee65c82b109d",
   "metadata": {},
   "outputs": [
    {
     "data": {
      "text/plain": [
       "0"
      ]
     },
     "execution_count": 6,
     "metadata": {},
     "output_type": "execute_result"
    }
   ],
   "source": [
    "sql_query = 'CREATE TABLE Profesores (ID INT PRIMARY KEY, Nombre VARCHAR(100), Apellido VARCHAR(100), Sexo VARCHAR(6), Nacimiento INT CHECK(Nacimiento BETWEEN 1945 AND 1965));'\n",
    "cursor.execute(sql_query)"
   ]
  },
  {
   "cell_type": "code",
   "execution_count": 7,
   "id": "8e52cf53-f820-4086-bd5d-30ddb10064e4",
   "metadata": {},
   "outputs": [
    {
     "data": {
      "text/plain": [
       "0"
      ]
     },
     "execution_count": 7,
     "metadata": {},
     "output_type": "execute_result"
    }
   ],
   "source": [
    "sql_query = 'CREATE TABLE Asignaturas (ID INT PRIMARY KEY, Nombre VARCHAR(100));'\n",
    "cursor.execute(sql_query)"
   ]
  },
  {
   "cell_type": "code",
   "execution_count": 8,
   "id": "59f9876f-64c2-41a3-9f04-2797b7c426b3",
   "metadata": {},
   "outputs": [
    {
     "data": {
      "text/plain": [
       "0"
      ]
     },
     "execution_count": 8,
     "metadata": {},
     "output_type": "execute_result"
    }
   ],
   "source": [
    "sql_query = 'CREATE TABLE Alumno_Asignatura (AlumnoID INT, AsignaturaID INT, FOREIGN KEY (AlumnoID) REFERENCES Alumnos(ID), FOREIGN KEY (AsignaturaID) REFERENCES Asignaturas(ID), PRIMARY KEY (AlumnoID, AsignaturaID));'\n",
    "cursor.execute(sql_query)"
   ]
  },
  {
   "cell_type": "code",
   "execution_count": 9,
   "id": "a1c48910-55b0-4a84-adfb-7787217e0e2f",
   "metadata": {},
   "outputs": [
    {
     "data": {
      "text/plain": [
       "0"
      ]
     },
     "execution_count": 9,
     "metadata": {},
     "output_type": "execute_result"
    }
   ],
   "source": [
    "sql_query = 'CREATE TABLE Profesor_Asignatura (ProfesorID INT, AsignaturaID INT, Convocatoria INT, FOREIGN KEY (ProfesorID) REFERENCES Profesores(ID), FOREIGN KEY (AsignaturaID) REFERENCES Asignaturas(ID), PRIMARY KEY (ProfesorID, AsignaturaID, Convocatoria));'\n",
    "cursor.execute(sql_query)"
   ]
  },
  {
   "cell_type": "code",
   "execution_count": 10,
   "id": "2028d340-a0d3-493f-a1d4-9b7711da8756",
   "metadata": {
    "tags": []
   },
   "outputs": [
    {
     "data": {
      "text/plain": [
       "0"
      ]
     },
     "execution_count": 10,
     "metadata": {},
     "output_type": "execute_result"
    }
   ],
   "source": [
    "sql_query = 'CREATE TABLE Notas (AlumnoID INT, AsignaturaID INT, Nota DECIMAL(4,2) CHECK (Nota <= 10.00), Curso INT, Convocatoria INT, FOREIGN KEY (AlumnoID) REFERENCES Alumnos(ID), FOREIGN KEY (AsignaturaID) REFERENCES Asignaturas(ID), PRIMARY KEY (AlumnoID, AsignaturaID, Curso, Convocatoria));'\n",
    "cursor.execute(sql_query)"
   ]
  },
  {
   "cell_type": "code",
   "execution_count": 11,
   "id": "bef298cc-0903-4c37-a8d0-109fd58a6f89",
   "metadata": {
    "tags": []
   },
   "outputs": [],
   "source": [
    "for i in range(1, 51): # i = 1\n",
    "    sexo = random.choice(['male', 'female'])\n",
    "    nombre = names.get_first_name(gender=sexo)\n",
    "    apellido = names.get_last_name()\n",
    "    nacimiento = random.randint(1990, 1993)\n",
    "    sql_insert = f\"INSERT INTO Alumnos (ID, Nombre, Apellido, Sexo, Nacimiento) VALUES ({i}, '{nombre}', '{apellido}', '{sexo}', {nacimiento});\"\n",
    "    cursor.execute(sql_insert)\n",
    "    #print(sql_insert)\n"
   ]
  },
  {
   "cell_type": "code",
   "execution_count": 12,
   "id": "667a2357-abd3-413b-8bed-f700a453c804",
   "metadata": {
    "tags": []
   },
   "outputs": [],
   "source": [
    "for i in range(1, 7): # i = 1\n",
    "    sexo = random.choice(['male', 'female'])\n",
    "    nombre = names.get_first_name(gender=sexo)\n",
    "    apellido = names.get_last_name()\n",
    "    nacimiento = random.randint(1945, 1965)\n",
    "    sql_insert = f\"INSERT INTO Profesores (ID, Nombre, Apellido, Sexo, Nacimiento) VALUES ({i}, '{nombre}', '{apellido}', '{sexo}', {nacimiento});\"\n",
    "    cursor.execute(sql_insert)\n",
    "    #print(sql_insert)\n"
   ]
  },
  {
   "cell_type": "code",
   "execution_count": 13,
   "id": "b660026d-2121-45d7-8589-ae61276019bb",
   "metadata": {
    "tags": []
   },
   "outputs": [],
   "source": [
    "asignaturas = ['Lengua y literatura', 'Geografía e Historia', 'Francés', 'Inglés', 'Biología','Química','Matemáticas','Física']"
   ]
  },
  {
   "cell_type": "code",
   "execution_count": 14,
   "id": "eafcf91a-e509-4fb4-a057-b834e841e660",
   "metadata": {
    "tags": []
   },
   "outputs": [],
   "source": [
    "for i, asignatura in enumerate(asignaturas, 1):\n",
    "    sql_insert = f\"INSERT INTO Asignaturas (ID, Nombre) VALUES ({i}, '{asignatura}');\"\n",
    "    cursor.execute(sql_insert)\n",
    "    #print(sql_insert)\n"
   ]
  },
  {
   "cell_type": "code",
   "execution_count": 15,
   "id": "160e7d56-0204-4921-b646-c411a26e14c8",
   "metadata": {
    "tags": []
   },
   "outputs": [],
   "source": [
    "for alumno_id in range(1, 51):\n",
    "    for asignatura_id in range(1, 9):\n",
    "        sql_insert = f\"INSERT INTO Alumno_Asignatura (AlumnoID, AsignaturaID) VALUES ({alumno_id}, {asignatura_id});\"\n",
    "        cursor.execute(sql_insert)\n",
    "        #print(sql_insert)"
   ]
  },
  {
   "cell_type": "code",
   "execution_count": 16,
   "id": "c0953e9f-a187-4753-922b-31292ae216d4",
   "metadata": {
    "tags": []
   },
   "outputs": [],
   "source": [
    "# Asignaciones de profesores a asignaturas\n",
    "asignaciones = {1: [1, 2, 3], 2: [3, 4], 3: [5, 6], 4: [6, 7, 8], 5: [4],6: [2, 3]}"
   ]
  },
  {
   "cell_type": "code",
   "execution_count": 17,
   "id": "b0c31613-57a7-41dd-9616-c75abab18f3f",
   "metadata": {
    "tags": []
   },
   "outputs": [],
   "source": [
    "# Insertar datos en la tabla Profesor_Asignatura y también las convocatorias (nueva columna)\n",
    "for profesor_id, asignaturas in asignaciones.items():\n",
    "    for asignatura_id in asignaturas:\n",
    "        for convocatoria in [1, 2, 3, 4]:  # Recorrer todas las convocatorias\n",
    "            sql_insert = f\"INSERT INTO Profesor_Asignatura (ProfesorID, AsignaturaID, Convocatoria) VALUES ({profesor_id}, {asignatura_id}, {convocatoria});\"\n",
    "            cursor.execute(sql_insert)"
   ]
  },
  {
   "cell_type": "code",
   "execution_count": 18,
   "id": "0ecf5361-135e-4429-9cf5-4da61aa3caaa",
   "metadata": {
    "tags": []
   },
   "outputs": [],
   "source": [
    "# Insertar datos en la tabla Notas para el primer curso\n",
    "for alumno_id in range(1, 51):  # Para cada alumno\n",
    "    for asignatura_id in range(1, 9):  # Matricular en todas las asignaturas\n",
    "        for convocatoria in [1, 2]:  # En ambas convocatorias\n",
    "            nota = round(random.uniform(5, 10), 2)  # Nota aleatoria entre 5 y 10\n",
    "            sql_insert = f\"INSERT INTO Notas (AlumnoID, AsignaturaID, Nota, Curso, Convocatoria) VALUES ({alumno_id}, {asignatura_id}, {nota}, 1, {convocatoria});\"\n",
    "            cursor.execute(sql_insert)\n",
    "\n",
    "# Insertar datos en la tabla Notas para el segundo curso\n",
    "for alumno_id in range(1, 51):  # Para cada alumno\n",
    "    # Elegir optativas (o la asignatura 3 o la 4)\n",
    "    optativa_1 = random.choice([3, 4])\n",
    "    nota = round(random.uniform(5, 10), 2)  # Nota aleatoria entre 0 y 10\n",
    "    sql_insert = f\"INSERT INTO Notas (AlumnoID, AsignaturaID, Nota, Curso, Convocatoria) VALUES ({alumno_id}, {optativa_1}, {nota}, 2, 3);\"\n",
    "    cursor.execute(sql_insert)\n",
    "\n",
    "    # Elegir optativas (o la asignatura 5 y 6 o la asignatura 7 y 8)\n",
    "    optativas_2 = [5, 6] if random.choice([True, False]) else [7, 8]\n",
    "    for optativa_2 in optativas_2:\n",
    "        nota = round(random.uniform(5, 10), 2)  # Nota aleatoria entre 0 y 10\n",
    "        sql_insert = f\"INSERT INTO Notas (AlumnoID, AsignaturaID, Nota, Curso, Convocatoria) VALUES ({alumno_id}, {optativa_2}, {nota}, 2, 4);\"\n",
    "        cursor.execute(sql_insert)\n"
   ]
  },
  {
   "cell_type": "code",
   "execution_count": 19,
   "id": "12fb07aa-c939-4677-8ca0-47423163e278",
   "metadata": {
    "tags": []
   },
   "outputs": [],
   "source": [
    "#actualizar base de datos con los cambios hasta ahora\n",
    "con.commit()"
   ]
  }
 ],
 "metadata": {
  "kernelspec": {
   "display_name": "Python 3 (ipykernel)",
   "language": "python",
   "name": "python3"
  },
  "language_info": {
   "codemirror_mode": {
    "name": "ipython",
    "version": 3
   },
   "file_extension": ".py",
   "mimetype": "text/x-python",
   "name": "python",
   "nbconvert_exporter": "python",
   "pygments_lexer": "ipython3",
   "version": "3.11.5"
  }
 },
 "nbformat": 4,
 "nbformat_minor": 5
}
