{
 "cells": [
  {
   "cell_type": "code",
   "execution_count": 1,
   "id": "7d770145-ef0b-41ea-b324-adcdee1a227a",
   "metadata": {
    "tags": []
   },
   "outputs": [],
   "source": [
    "import pandas as pd\n",
    "import matplotlib.pyplot as plt\n",
    "import seaborn as sns\n",
    "import numpy as np\n",
    "from sklearn import linear_model\n",
    "from sklearn.model_selection import train_test_split\n",
    "from sklearn.linear_model import LogisticRegression\n",
    "from sklearn.metrics import accuracy_score, confusion_matrix\n",
    "from sklearn.metrics import classification_report\n",
    "from sklearn.metrics import ConfusionMatrixDisplay\n",
    "from sklearn import metrics"
   ]
  },
  {
   "cell_type": "code",
   "execution_count": 2,
   "id": "5604730b-3978-4c00-8654-5e2c6e86f35d",
   "metadata": {
    "tags": []
   },
   "outputs": [],
   "source": [
    "df_train = pd.read_csv('train.csv')\n",
    "df_test = pd.read_csv('test.csv')"
   ]
  },
  {
   "cell_type": "code",
   "execution_count": 3,
   "id": "f561e8f2-8f59-4566-ab47-030a1a96c1b1",
   "metadata": {
    "tags": []
   },
   "outputs": [],
   "source": [
    "\n",
    "X_train=df_train.drop(['smoking'],axis=1)\n",
    "y_train=df_train['smoking']\n",
    "\n",
    "X_test = df_test\n",
    "\n",
    "train_id = X_train['id']\n",
    "test_id = X_test['id']\n",
    "\n",
    "X_train = X_train.drop(['id'], axis=1)\n",
    "X_test = X_test.drop(['id'], axis=1)"
   ]
  },
  {
   "cell_type": "code",
   "execution_count": 4,
   "id": "c1fbb4a5-8ba9-4b15-b35d-9a7fe28b1364",
   "metadata": {
    "tags": []
   },
   "outputs": [],
   "source": [
    "def calculo_imc(height_cm, weight_kg):\n",
    "    altura_m = height_cm / 100\n",
    "    imc = weight_kg / (altura_m ** 2)\n",
    "    return imc"
   ]
  },
  {
   "cell_type": "code",
   "execution_count": 5,
   "id": "5c5227c6-0370-4dda-b46a-4005a3fba422",
   "metadata": {},
   "outputs": [],
   "source": [
    "#creo columna aplicando la fórmula al df\n",
    "X_train['IMC'] = X_train.apply(lambda row: calculo_imc(row['height(cm)'], row['weight(kg)']), axis=1)"
   ]
  },
  {
   "cell_type": "code",
   "execution_count": 6,
   "id": "0441df58-4c5a-4890-bcfc-0ee004f3e0df",
   "metadata": {},
   "outputs": [],
   "source": [
    "def peso_no_sano(imc):\n",
    "    condiciones = (imc < 18.5) | (imc > 30)\n",
    "    return condiciones.astype(int) #asi el booleano lo paso a 0 y 1"
   ]
  },
  {
   "cell_type": "code",
   "execution_count": 7,
   "id": "e18c272c-2fe2-4521-80a5-128912564310",
   "metadata": {},
   "outputs": [],
   "source": [
    "#creo columna aplicando la fórmula al df\n",
    "X_train['peso_no_sano'] = peso_no_sano(X_train['IMC'])"
   ]
  },
  {
   "cell_type": "code",
   "execution_count": 8,
   "id": "63aa6233-bd17-4de7-8b2a-927a8321741b",
   "metadata": {
    "tags": []
   },
   "outputs": [],
   "source": [
    "def grupos_edad(edad):\n",
    "    if edad<40:\n",
    "        return 'Joven'\n",
    "    elif edad <65:\n",
    "        return 'Adulto'\n",
    "    else:\n",
    "        return 'Mayor'"
   ]
  },
  {
   "cell_type": "code",
   "execution_count": 9,
   "id": "a9e8f733-21d7-4d34-a523-43d1e9f05f74",
   "metadata": {
    "tags": []
   },
   "outputs": [],
   "source": [
    "#creo columna aplicando la fórmula al df\n",
    "X_train['G_Edad'] = X_train.apply(lambda row: grupos_edad(row['age']), axis=1)"
   ]
  },
  {
   "cell_type": "code",
   "execution_count": 10,
   "id": "55f7cd92-64b4-475c-99f5-9519dd8535cc",
   "metadata": {
    "tags": []
   },
   "outputs": [],
   "source": [
    "#lo paso a dummy para que no me de problemas luego en el escalador\n",
    "dummy=pd.get_dummies(X_train['G_Edad'], drop_first=True)\n",
    "X_train=X_train.drop('G_Edad',axis=1)\n",
    "X_train = pd.concat([X_train, dummy], axis=1)\n"
   ]
  },
  {
   "cell_type": "code",
   "execution_count": 11,
   "id": "49e7b042-c350-4d81-b668-c3faae93b76d",
   "metadata": {
    "tags": []
   },
   "outputs": [],
   "source": [
    "#lo paso de booleano a 0 y 1 para que no me de problemas luego en el escalador\n",
    "X_train['Joven']=X_train['Joven'].astype(int)\n",
    "X_train['Mayor']=X_train['Mayor'].astype(int)"
   ]
  },
  {
   "cell_type": "code",
   "execution_count": 12,
   "id": "02eb565a-4d1d-4d2b-b82b-64ebd53326db",
   "metadata": {
    "tags": []
   },
   "outputs": [],
   "source": [
    "def mala_dieta(df):\n",
    "    condiciones = [(X_train['LDL'] > 130),(X_train['triglyceride'] > 150),(X_train['fasting blood sugar'] > 100),(X_train['hemoglobin'] < 13.5),(X_train['Urine protein'] > 150),\n",
    "        (X_train['peso_no_sano']==1)]\n",
    "    suma_condiciones = sum(condiciones)\n",
    "    return (suma_condiciones >=3).astype(int) #he querido ser equilibrada pidiendo que sean 3 parámetros los que determinen una mala dieta"
   ]
  },
  {
   "cell_type": "code",
   "execution_count": 13,
   "id": "4fda69f4-fe04-4b91-81bb-42678f5c527e",
   "metadata": {
    "tags": []
   },
   "outputs": [],
   "source": [
    "#como lo aplicamos al df entero (eran muchas columnas y así se ha definido  en la fórmula) no uso apply ni lambda\n",
    "X_train['mala_dieta'] = mala_dieta(X_train)"
   ]
  },
  {
   "cell_type": "code",
   "execution_count": 14,
   "id": "7c1d37ed-e830-4b6e-8550-54d23e3890e8",
   "metadata": {
    "tags": []
   },
   "outputs": [],
   "source": [
    "#puede haber sesgo en algunos valores porque los que se encuentran como referencia son los de hombres\n",
    "#como ants son muchhsa columnas, recibe df\n",
    "def pos_alcoholismo(df):\n",
    "    condiciones=[df['AST'] > 50,df['ALT'] > 50, df['Gtp'] > 55,(df['systolic'] > 120) | (df['relaxation'] > 80), df['triglyceride'] > 150]\n",
    "    suma=sum(condiciones) \n",
    "    return (suma>=3).astype(int)"
   ]
  },
  {
   "cell_type": "code",
   "execution_count": 15,
   "id": "3b0fbe9c-c164-45b7-b1e2-e9660260abee",
   "metadata": {
    "tags": []
   },
   "outputs": [],
   "source": [
    "X_train['pos_alcoholismo']=pos_alcoholismo(X_train)"
   ]
  },
  {
   "cell_type": "code",
   "execution_count": 16,
   "id": "e6dc4f3a-7992-4611-9aad-c80338c56ec1",
   "metadata": {
    "tags": []
   },
   "outputs": [],
   "source": [
    "def buenos_habitos(df):\n",
    "    condiciones=[(1-df['peso_no_sano']),(1-df['mala_dieta']),(1-df['pos_alcoholismo']),(1-df['dental caries'])]\n",
    "    suma=sum(condiciones)\n",
    "    return (suma>=3).astype(int)    "
   ]
  },
  {
   "cell_type": "code",
   "execution_count": 17,
   "id": "81ed8e9b-e810-4540-938c-a86a81fd2d6d",
   "metadata": {
    "tags": []
   },
   "outputs": [],
   "source": [
    "X_train['buenos_habitos']= buenos_habitos(X_train)"
   ]
  },
  {
   "cell_type": "code",
   "execution_count": 18,
   "id": "eeababd5-e242-445d-a455-ee40b7148860",
   "metadata": {},
   "outputs": [],
   "source": [
    "from sklearn.preprocessing import StandardScaler\n",
    "from sklearn.model_selection import train_test_split\n",
    "from sklearn.neighbors import KNeighborsClassifier\n",
    "\n",
    "# Preparar los datos\n",
    "X = X_train\n",
    "y = y_train \n",
    "\n",
    "# Estandarizar los datos\n",
    "scaler = StandardScaler()\n",
    "X = scaler.fit_transform(X)\n",
    "\n",
    "# Dividir los datos en conjuntos de entrenamiento y prueba\n",
    "X_train2, X_test2, y_train2, y_test2 = train_test_split(X, y, test_size=0.20)\n",
    "\n",
    "# Definir el modelo\n",
    "model = KNeighborsClassifier()"
   ]
  },
  {
   "cell_type": "code",
   "execution_count": null,
   "id": "f6d3c7dd-2482-4bcf-802b-f9de56a918e4",
   "metadata": {},
   "outputs": [],
   "source": [
    "# Entrenar el modelo con los datos de entrenamiento\n",
    "model.fit(X_train2, y_train2)"
   ]
  },
  {
   "cell_type": "code",
   "execution_count": null,
   "id": "824010f8-e2cf-46e2-8f28-2305512731ce",
   "metadata": {},
   "outputs": [],
   "source": [
    "# Hacer predicciones en los datos de prueba\n",
    "y_pred = model.predict(X_test2)"
   ]
  },
  {
   "cell_type": "code",
   "execution_count": 19,
   "id": "309990cc-9405-49e2-90ec-1142c7aded7d",
   "metadata": {
    "tags": []
   },
   "outputs": [
    {
     "name": "stdout",
     "output_type": "stream",
     "text": [
      "{'algorithm': 'auto', 'leaf_size': 30, 'metric': 'minkowski', 'metric_params': None, 'n_jobs': None, 'n_neighbors': 5, 'p': 2, 'weights': 'uniform'}\n"
     ]
    }
   ],
   "source": [
    "# vemos los parametros que puede tener\n",
    "print(model.get_params())\n",
    "params = {'n_neighbors': [3,5,7],\n",
    "         'p': [1,2]}\n",
    "\n",
    "# scoring: lista de metricas a obtener\n",
    "# https://scikit-learn.org/stable/modules/model_evaluation.html#scoring-parameter\n",
    "scoring = ['accuracy', 'roc_auc']"
   ]
  },
  {
   "cell_type": "code",
   "execution_count": 20,
   "id": "360afb5e-3fa1-46a7-8e43-6624134203c4",
   "metadata": {
    "tags": []
   },
   "outputs": [
    {
     "name": "stdout",
     "output_type": "stream",
     "text": [
      "Fitting 5 folds for each of 6 candidates, totalling 30 fits\n",
      "[CV] END .................................n_neighbors=3, p=1; total time=  29.0s\n",
      "[CV] END .................................n_neighbors=3, p=1; total time=  28.3s\n",
      "[CV] END .................................n_neighbors=3, p=1; total time=  28.8s\n",
      "[CV] END .................................n_neighbors=3, p=1; total time=  29.5s\n",
      "[CV] END .................................n_neighbors=3, p=1; total time=  29.2s\n",
      "[CV] END .................................n_neighbors=3, p=2; total time=   7.9s\n",
      "[CV] END .................................n_neighbors=3, p=2; total time=   7.5s\n",
      "[CV] END .................................n_neighbors=3, p=2; total time=   7.7s\n",
      "[CV] END .................................n_neighbors=3, p=2; total time=   7.9s\n",
      "[CV] END .................................n_neighbors=3, p=2; total time=   7.9s\n",
      "[CV] END .................................n_neighbors=5, p=1; total time=  28.6s\n",
      "[CV] END .................................n_neighbors=5, p=1; total time=  28.7s\n",
      "[CV] END .................................n_neighbors=5, p=1; total time=  28.7s\n",
      "[CV] END .................................n_neighbors=5, p=1; total time=  28.2s\n",
      "[CV] END .................................n_neighbors=5, p=1; total time=  29.1s\n",
      "[CV] END .................................n_neighbors=5, p=2; total time=   7.8s\n",
      "[CV] END .................................n_neighbors=5, p=2; total time=   7.9s\n",
      "[CV] END .................................n_neighbors=5, p=2; total time=   8.1s\n",
      "[CV] END .................................n_neighbors=5, p=2; total time=   7.9s\n",
      "[CV] END .................................n_neighbors=5, p=2; total time=   8.0s\n",
      "[CV] END .................................n_neighbors=7, p=1; total time=  29.3s\n",
      "[CV] END .................................n_neighbors=7, p=1; total time=  29.2s\n",
      "[CV] END .................................n_neighbors=7, p=1; total time=  29.0s\n",
      "[CV] END .................................n_neighbors=7, p=1; total time=  29.3s\n",
      "[CV] END .................................n_neighbors=7, p=1; total time=  29.1s\n",
      "[CV] END .................................n_neighbors=7, p=2; total time=   8.1s\n",
      "[CV] END .................................n_neighbors=7, p=2; total time=   8.0s\n",
      "[CV] END .................................n_neighbors=7, p=2; total time=   8.0s\n",
      "[CV] END .................................n_neighbors=7, p=2; total time=   7.9s\n",
      "[CV] END .................................n_neighbors=7, p=2; total time=   8.6s\n",
      "Mejor score: 0.812050866601797\n",
      "Mejores parametros: {'n_neighbors': 7, 'p': 1}\n",
      "Train Score: 0.8920066920777953\n",
      "Test Score: 0.8181266904899412\n"
     ]
    },
    {
     "ename": "NameError",
     "evalue": "name 'sklearn' is not defined",
     "output_type": "error",
     "traceback": [
      "\u001b[1;31m---------------------------------------------------------------------------\u001b[0m",
      "\u001b[1;31mNameError\u001b[0m                                 Traceback (most recent call last)",
      "Cell \u001b[1;32mIn[20], line 26\u001b[0m\n\u001b[0;32m     24\u001b[0m y_pred\u001b[38;5;241m=\u001b[39mmodel_result\u001b[38;5;241m.\u001b[39mpredict(X_train2)\n\u001b[0;32m     25\u001b[0m probs\u001b[38;5;241m=\u001b[39mmodel_result\u001b[38;5;241m.\u001b[39mpredict_proba(X_train2)\n\u001b[1;32m---> 26\u001b[0m \u001b[38;5;28mprint\u001b[39m(\u001b[38;5;124m\"\u001b[39m\u001b[38;5;124mTrain AUC:\u001b[39m\u001b[38;5;124m\"\u001b[39m, sklearn\u001b[38;5;241m.\u001b[39mmetrics\u001b[38;5;241m.\u001b[39mroc_auc_score(y_train2,probs[:,\u001b[38;5;241m1\u001b[39m]))\n\u001b[0;32m     27\u001b[0m \u001b[38;5;28mprint\u001b[39m(\u001b[38;5;124m\"\u001b[39m\u001b[38;5;124mTrain Accuracy:\u001b[39m\u001b[38;5;124m\"\u001b[39m, sklearn\u001b[38;5;241m.\u001b[39mmetrics\u001b[38;5;241m.\u001b[39maccuracy_score(y_train2,y_pred))\n\u001b[0;32m     29\u001b[0m \u001b[38;5;66;03m# test\u001b[39;00m\n",
      "\u001b[1;31mNameError\u001b[0m: name 'sklearn' is not defined"
     ]
    }
   ],
   "source": [
    "from sklearn.model_selection import GridSearchCV\n",
    "# CV (cross validación)\n",
    "n_cv=5 # 5 folds\n",
    "# creamos la GridSeacrh # cross-validation\n",
    "grid_solver = GridSearchCV(estimator = model, # model to train\n",
    "                   param_grid = params, # param_grid\n",
    "                   scoring = scoring,\n",
    "                   cv = n_cv,\n",
    "                   refit = 'roc_auc', # Aplico lo que requería el ejercicio de Kaggle en este paso\n",
    "                   verbose = 2)\n",
    "\n",
    "model_result = grid_solver.fit(X_train2,y_train2)\n",
    "# hemos ajustado el modelo\n",
    "\n",
    "# best score es la media del best estimator\n",
    "print(\"Mejor score:\", model_result.best_score_)\n",
    "# tenemos los mejores parametros\n",
    "print(\"Mejores parametros:\",model_result.best_params_)\n",
    "\n",
    "# En este caso el score devuelve el roc_auc\n",
    "print(\"Train Score:\", model_result.score(X_train2,y_train2)) # score devulve la metrica del refit\n",
    "print(\"Test Score:\", model_result.score(X_test2,y_test2))\n",
    "# Train\n",
    "y_pred=model_result.predict(X_train2)\n",
    "probs=model_result.predict_proba(X_train2)\n",
    "print(\"Train AUC:\", sklearn.metrics.roc_auc_score(y_train2,probs[:,1]))\n",
    "print(\"Train Accuracy:\", sklearn.metrics.accuracy_score(y_train2,y_pred))\n"
   ]
  },
  {
   "cell_type": "code",
   "execution_count": 25,
   "id": "ca83fb40-3ec4-463e-a596-466fd6b33a88",
   "metadata": {
    "tags": []
   },
   "outputs": [
    {
     "name": "stdout",
     "output_type": "stream",
     "text": [
      "Test AUC: 0.8181266904899412\n",
      "Test Accuracy: 0.7424337561220645\n"
     ]
    }
   ],
   "source": [
    "import sklearn\n",
    "from sklearn.model_selection import GridSearchCV\n",
    "from sklearn import metrics\n",
    "\n",
    "# test\n",
    "model_result.score(X_test2,y_test2)\n",
    "y_pred=model_result.predict(X_test2)\n",
    "probs=model_result.predict_proba(X_test2)\n",
    "print(\"Test AUC:\", sklearn.metrics.roc_auc_score(y_test2,probs[:,1]))\n",
    "print(\"Test Accuracy:\", sklearn.metrics.accuracy_score(y_test2,y_pred))"
   ]
  },
  {
   "cell_type": "code",
   "execution_count": 26,
   "id": "82c050c5-35b4-438a-b3f8-a12e7a2b8785",
   "metadata": {},
   "outputs": [],
   "source": [
    "#Revisión del modelo\n",
    "# tenemos un atributo del mejor modelo\n",
    "best_model=model_result.best_estimator_\n",
    "# nos quedamos con el mejor modelo y reestimamos con toda la muestra"
   ]
  },
  {
   "cell_type": "code",
   "execution_count": 27,
   "id": "8d86d80b-0482-4bd4-a700-d8f18ba8a0df",
   "metadata": {},
   "outputs": [],
   "source": [
    "# Ajuste del modelo\n",
    "final_model=best_model.fit(X,y)# resultados de la cross validation con parameter tunning\n"
   ]
  },
  {
   "cell_type": "code",
   "execution_count": 28,
   "id": "d46e6dc3-e786-48f5-a81e-4420593d5f20",
   "metadata": {},
   "outputs": [],
   "source": [
    "#Prueba final del modelo\n",
    "results=model_result.cv_results_\n",
    "results=pd.DataFrame(results)"
   ]
  },
  {
   "cell_type": "code",
   "execution_count": 30,
   "id": "26efc1c8-9dfe-488b-bb9b-7402518c8902",
   "metadata": {
    "tags": []
   },
   "outputs": [],
   "source": [
    "#Ahora uso el test de kaggle para hacer una predicción: \n",
    "#aplico la modificaciones del X_train al X_Test\n",
    "X_test['IMC'] = X_test.apply(lambda row: calculo_imc(row['height(cm)'], row['weight(kg)']), axis=1)\n",
    "X_test['peso_no_sano'] = peso_no_sano(X_test['IMC'])\n",
    "X_test['G_Edad'] = X_test.apply(lambda row: grupos_edad(row['age']), axis=1)\n",
    "dummy=pd.get_dummies(X_test['G_Edad'], drop_first=True)\n",
    "X_test=X_test.drop('G_Edad',axis=1)\n",
    "X_test = pd.concat([X_test, dummy], axis=1)\n",
    "X_test['Joven']=X_test['Joven'].astype(int)\n",
    "X_test['Mayor']=X_test['Mayor'].astype(int)\n",
    "X_test['mala_dieta'] = mala_dieta(X_test)\n",
    "X_test['pos_alcoholismo']=pos_alcoholismo(X_test)\n",
    "X_test['buenos_habitos']= buenos_habitos(X_test)\n",
    "X_test = scaler.fit_transform(X_test)\n"
   ]
  },
  {
   "cell_type": "code",
   "execution_count": null,
   "id": "48bd376f-a79e-432d-9950-86d1ea134a32",
   "metadata": {
    "tags": []
   },
   "outputs": [],
   "source": [
    "#  'final_model' es mi modelo final ya entrenado, entonces:\n",
    "y_test_pred = final_model.predict(X_test)\n",
    "\n",
    "# Creo dataframe con mi predicción\n",
    "smoking_res = pd.DataFrame({'id': test_id,'smoking': y_test_pred})\n",
    "\n",
    "smoking_res.to_csv('smoking_res.csv', index=False)"
   ]
  },
  {
   "cell_type": "code",
   "execution_count": null,
   "id": "8b07bde7-bf88-47db-8604-f598b48b4033",
   "metadata": {},
   "outputs": [],
   "source": []
  }
 ],
 "metadata": {
  "kernelspec": {
   "display_name": "Python 3 (ipykernel)",
   "language": "python",
   "name": "python3"
  },
  "language_info": {
   "codemirror_mode": {
    "name": "ipython",
    "version": 3
   },
   "file_extension": ".py",
   "mimetype": "text/x-python",
   "name": "python",
   "nbconvert_exporter": "python",
   "pygments_lexer": "ipython3",
   "version": "3.11.5"
  }
 },
 "nbformat": 4,
 "nbformat_minor": 5
}
